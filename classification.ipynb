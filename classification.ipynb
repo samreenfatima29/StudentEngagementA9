{
  "cells": [
    {
      "cell_type": "markdown",
      "metadata": {
        "id": "xrcB0Vr212lZ"
      },
      "source": [
        "### Downloading required packages"
      ]
    },
    {
      "cell_type": "code",
      "execution_count": 1,
      "metadata": {
        "colab": {
          "base_uri": "https://localhost:8080/"
        },
        "id": "R21gpTz71wIp",
        "outputId": "8b38e49c-f58a-4926-a404-6d5481a6dc14"
      },
      "outputs": [],
      "source": []
    },
    {
      "cell_type": "markdown",
      "metadata": {
        "id": "MugIvxBv2Jqt"
      },
      "source": [
        "## 1. Importing dataset"
      ]
    },
    {
      "cell_type": "code",
      "execution_count": 2,
      "metadata": {
        "id": "NsInEgLy1YBH"
      },
      "outputs": [],
      "source": [
        "import opendatasets as od"
      ]
    },
    {
      "cell_type": "code",
      "execution_count": 3,
      "metadata": {
        "colab": {
          "base_uri": "https://localhost:8080/"
        },
        "id": "KQjhO9JZ2jO6",
        "outputId": "20adaac1-b34a-4606-9083-ff0788bcd5d2"
      },
      "outputs": [
        {
          "name": "stdout",
          "output_type": "stream",
          "text": [
            "Please provide your Kaggle credentials to download this dataset. Learn more: http://bit.ly/kaggle-creds\n",
            "Your Kaggle username:Your Kaggle Key:Downloading studentengagement.zip to .\\studentengagement\n"
          ]
        },
        {
          "name": "stderr",
          "output_type": "stream",
          "text": [
            "100%|██████████| 38.3M/38.3M [01:23<00:00, 482kB/s]\n"
          ]
        },
        {
          "name": "stdout",
          "output_type": "stream",
          "text": [
            "\n"
          ]
        }
      ],
      "source": [
        "link = 'https://www.kaggle.com/datasets/joyee19/studentengagement'\n",
        "od.download(link)"
      ]
    },
    {
      "cell_type": "markdown",
      "metadata": {
        "id": "pjW4870e3YbW"
      },
      "source": [
        "## 2. Preprocessing the data"
      ]
    },
    {
      "cell_type": "code",
      "execution_count": 5,
      "metadata": {
        "id": "bsGNfKSo2mlo"
      },
      "outputs": [],
      "source": [
        "import os\n",
        "import shutil\n",
        "import random"
      ]
    },
    {
      "cell_type": "code",
      "execution_count": 9,
      "metadata": {
        "id": "qS6LKzL43ebW"
      },
      "outputs": [],
      "source": [
        "root_path = 'C:/Projects/Python/MoiMoi/studentengagement/Student-engagement-dataset/'\n",
        "\n",
        "# Taking subfolders paths\n",
        "engaged_folder_path = os.path.join(root_path, 'Engaged')\n",
        "not_engaged_folder_path = os.path.join(root_path, 'Not engaged')\n",
        "\n",
        "# Taking classes path from each subfolders\n",
        "confused_file_path = os.path.join(engaged_folder_path, 'confused')\n",
        "engaged_file_path = os.path.join(engaged_folder_path, 'engaged')\n",
        "frustrated_file_path = os.path.join(engaged_folder_path, 'frustrated')\n",
        "looking_away_file_path = os.path.join(not_engaged_folder_path, 'Looking Away')\n",
        "bored_file_path = os.path.join(not_engaged_folder_path, 'bored')\n",
        "drowsy_file_path = os.path.join(not_engaged_folder_path, 'drowsy')"
      ]
    },
    {
      "cell_type": "code",
      "execution_count": 10,
      "metadata": {
        "colab": {
          "base_uri": "https://localhost:8080/"
        },
        "id": "SJIs7hD83jBF",
        "outputId": "d120207a-de6a-4639-ee77-7c11816b670f"
      },
      "outputs": [
        {
          "name": "stdout",
          "output_type": "stream",
          "text": [
            "369\n",
            "347\n",
            "360\n",
            "423\n",
            "358\n",
            "263\n"
          ]
        }
      ],
      "source": [
        "# Checking the paths\n",
        "print(len(os.listdir(confused_file_path)))\n",
        "print(len(os.listdir(engaged_file_path)))\n",
        "print(len(os.listdir(frustrated_file_path)))\n",
        "print(len(os.listdir(looking_away_file_path)))\n",
        "print(len(os.listdir(bored_file_path)))\n",
        "print(len(os.listdir(drowsy_file_path)))\n"
      ]
    },
    {
      "cell_type": "code",
      "execution_count": 11,
      "metadata": {
        "id": "WfOErKmA8ksM"
      },
      "outputs": [],
      "source": [
        "# Taking paths to create training and validation folders\n",
        "train_dir = os.path.join(root_path, 'train')\n",
        "validation_dir = os.path.join(root_path, 'validation')\n",
        "\n",
        "# Creating folders\n",
        "os.makedirs(train_dir, exist_ok=True)\n",
        "os.makedirs(validation_dir, exist_ok=True)\n",
        "\n",
        "# Creating subfolders by collecting folders from all the existing folders\n",
        "class_folders = os.listdir(engaged_folder_path) + os.listdir(not_engaged_folder_path)\n",
        "\n",
        "# Loop to create each folder\n",
        "for class_folder in class_folders:\n",
        "  os.makedirs(os.path.join(train_dir, class_folder))\n",
        "  os.makedirs(os.path.join(validation_dir, class_folder))"
      ]
    },
    {
      "cell_type": "code",
      "execution_count": 12,
      "metadata": {
        "id": "4OTo0UgH4vv4"
      },
      "outputs": [],
      "source": [
        "# Define your training and testing directories\n",
        "dirs = [engaged_folder_path, not_engaged_folder_path]\n",
        "\n",
        "# Define your train-test split ratio\n",
        "split_ratio = 0.8  # 80% for training, 20% for testing\n",
        "\n",
        "# Iterate over each class folder in your data directory\n",
        "for data_dir in dirs:\n",
        "  for class_folder in os.listdir(data_dir):\n",
        "      class_path = os.path.join(data_dir, class_folder)\n",
        "\n",
        "      # Collect paths of all images in the current class folder\n",
        "      image_paths = [os.path.join(class_path, img) for img in os.listdir(class_path)]\n",
        "\n",
        "      # Shuffle the image paths\n",
        "      random.shuffle(image_paths)\n",
        "\n",
        "      # Split the image paths into training and testing sets\n",
        "      split_index = int(len(image_paths) * split_ratio)\n",
        "      train_paths = image_paths[:split_index]\n",
        "      test_paths = image_paths[split_index:]\n",
        "\n",
        "      # Copy images to the appropriate train and test directories\n",
        "      for path in train_paths:\n",
        "          shutil.copy(path, os.path.join(train_dir, class_folder))\n",
        "      for path in test_paths:\n",
        "          shutil.copy(path, os.path.join(validation_dir, class_folder))\n"
      ]
    },
    {
      "cell_type": "markdown",
      "metadata": {
        "id": "gTuXUaPWEGpG"
      },
      "source": [
        "## 3. Model building"
      ]
    },
    {
      "cell_type": "code",
      "execution_count": 13,
      "metadata": {
        "id": "An7cDeMJ8L4y"
      },
      "outputs": [
        {
          "name": "stdout",
          "output_type": "stream",
          "text": [
            "WARNING:tensorflow:From c:\\Users\\raman\\anaconda3\\Lib\\site-packages\\keras\\src\\losses.py:2976: The name tf.losses.sparse_softmax_cross_entropy is deprecated. Please use tf.compat.v1.losses.sparse_softmax_cross_entropy instead.\n",
            "\n"
          ]
        }
      ],
      "source": [
        "from keras.layers import Conv2D, MaxPooling2D, Dense, Flatten, Dropout\n",
        "from keras.models import Sequential"
      ]
    },
    {
      "cell_type": "code",
      "execution_count": 14,
      "metadata": {
        "id": "tJ_RLtS1EXHd"
      },
      "outputs": [],
      "source": [
        "def create_model():\n",
        "  model = Sequential([\n",
        "      Conv2D(32, (3,3), activation='relu', input_shape=(300,300,3)),\n",
        "      MaxPooling2D(2,2),\n",
        "      Conv2D(64, (3,3), activation='relu'),\n",
        "      MaxPooling2D(2,2),\n",
        "      Conv2D(128, (3,3), activation='relu'),\n",
        "      MaxPooling2D(2,2),\n",
        "      Conv2D(256, (3,3), activation='relu'),\n",
        "      MaxPooling2D(2,2),\n",
        "      Flatten(),\n",
        "      Dense(512, activation='relu'),\n",
        "      Dense(256, activation='relu'),\n",
        "      # Dropout(0.3)\n",
        "      Dense(6, activation='softmax')\n",
        "  ])\n",
        "\n",
        "  model.compile(optimizer='adam', loss='categorical_crossentropy', metrics=['accuracy'])\n",
        "\n",
        "  return model"
      ]
    },
    {
      "cell_type": "code",
      "execution_count": 15,
      "metadata": {
        "colab": {
          "base_uri": "https://localhost:8080/"
        },
        "id": "-xcU0R2MFqBl",
        "outputId": "9845356f-0b61-491c-8af1-0e0283c95928"
      },
      "outputs": [
        {
          "name": "stdout",
          "output_type": "stream",
          "text": [
            "WARNING:tensorflow:From c:\\Users\\raman\\anaconda3\\Lib\\site-packages\\keras\\src\\backend.py:873: The name tf.get_default_graph is deprecated. Please use tf.compat.v1.get_default_graph instead.\n",
            "\n",
            "WARNING:tensorflow:From c:\\Users\\raman\\anaconda3\\Lib\\site-packages\\keras\\src\\layers\\pooling\\max_pooling2d.py:161: The name tf.nn.max_pool is deprecated. Please use tf.nn.max_pool2d instead.\n",
            "\n",
            "WARNING:tensorflow:From c:\\Users\\raman\\anaconda3\\Lib\\site-packages\\keras\\src\\optimizers\\__init__.py:309: The name tf.train.Optimizer is deprecated. Please use tf.compat.v1.train.Optimizer instead.\n",
            "\n",
            "Model: \"sequential\"\n",
            "_________________________________________________________________\n",
            " Layer (type)                Output Shape              Param #   \n",
            "=================================================================\n",
            " conv2d (Conv2D)             (None, 298, 298, 32)      896       \n",
            "                                                                 \n",
            " max_pooling2d (MaxPooling2  (None, 149, 149, 32)      0         \n",
            " D)                                                              \n",
            "                                                                 \n",
            " conv2d_1 (Conv2D)           (None, 147, 147, 64)      18496     \n",
            "                                                                 \n",
            " max_pooling2d_1 (MaxPoolin  (None, 73, 73, 64)        0         \n",
            " g2D)                                                            \n",
            "                                                                 \n",
            " conv2d_2 (Conv2D)           (None, 71, 71, 128)       73856     \n",
            "                                                                 \n",
            " max_pooling2d_2 (MaxPoolin  (None, 35, 35, 128)       0         \n",
            " g2D)                                                            \n",
            "                                                                 \n",
            " conv2d_3 (Conv2D)           (None, 33, 33, 256)       295168    \n",
            "                                                                 \n",
            " max_pooling2d_3 (MaxPoolin  (None, 16, 16, 256)       0         \n",
            " g2D)                                                            \n",
            "                                                                 \n",
            " flatten (Flatten)           (None, 65536)             0         \n",
            "                                                                 \n",
            " dense (Dense)               (None, 512)               33554944  \n",
            "                                                                 \n",
            " dense_1 (Dense)             (None, 256)               131328    \n",
            "                                                                 \n",
            " dense_2 (Dense)             (None, 6)                 1542      \n",
            "                                                                 \n",
            "=================================================================\n",
            "Total params: 34076230 (129.99 MB)\n",
            "Trainable params: 34076230 (129.99 MB)\n",
            "Non-trainable params: 0 (0.00 Byte)\n",
            "_________________________________________________________________\n"
          ]
        }
      ],
      "source": [
        "model = create_model()\n",
        "model.summary()"
      ]
    },
    {
      "cell_type": "markdown",
      "metadata": {
        "id": "KPm4camYGi9w"
      },
      "source": [
        "## 4. Creating ImageGenerators"
      ]
    },
    {
      "cell_type": "code",
      "execution_count": null,
      "metadata": {
        "id": "ifxkpKKOFr-a"
      },
      "outputs": [
        {
          "ename": "",
          "evalue": "",
          "output_type": "error",
          "traceback": [
            "\u001b[1;31mRunning cells with 'c:\\Users\\natas\\AppData\\Local\\Programs\\Python\\Python310\\python.exe' requires the ipykernel package.\n",
            "\u001b[1;31mRun the following command to install 'ipykernel' into the Python environment. \n",
            "\u001b[1;31mCommand: 'c:/Users/natas/AppData/Local/Programs/Python/Python310/python.exe -m pip install ipykernel -U --user --force-reinstall'"
          ]
        }
      ],
      "source": [
        "from keras.preprocessing.image import ImageDataGenerator"
      ]
    },
    {
      "cell_type": "code",
      "execution_count": 19,
      "metadata": {
        "id": "wTV4OcZaGrd0"
      },
      "outputs": [],
      "source": [
        "train_datagen = ImageDataGenerator(\n",
        "    rescale=1./255,\n",
        "    rotation_range=20,\n",
        "    width_shift_range=0.2,\n",
        "    height_shift_range=0.2,\n",
        "    shear_range=0.2,\n",
        "    zoom_range=0.2,\n",
        "    horizontal_flip=True,\n",
        "    fill_mode='nearest'\n",
        ")\n",
        "\n",
        "validation_datagen = ImageDataGenerator(rescale=1./255)"
      ]
    },
    {
      "cell_type": "code",
      "execution_count": 20,
      "metadata": {
        "colab": {
          "base_uri": "https://localhost:8080/"
        },
        "id": "uPS1w-AWG5O-",
        "outputId": "ad1f846d-2c92-4a89-bb55-115122ff8f4d"
      },
      "outputs": [
        {
          "name": "stdout",
          "output_type": "stream",
          "text": [
            "Found 1694 images belonging to 6 classes.\n",
            "Found 426 images belonging to 6 classes.\n"
          ]
        }
      ],
      "source": [
        "train_generator = train_datagen.flow_from_directory(train_dir, target_size=(300,300), batch_size=32, class_mode='categorical')\n",
        "validation_generator = train_datagen.flow_from_directory(validation_dir, target_size=(300,300), batch_size=32, class_mode='categorical')"
      ]
    },
    {
      "cell_type": "markdown",
      "metadata": {
        "id": "awYPhIDoIWQV"
      },
      "source": [
        "## 5. Fitting the model"
      ]
    },
    {
      "cell_type": "code",
      "execution_count": 22,
      "metadata": {
        "colab": {
          "base_uri": "https://localhost:8080/"
        },
        "id": "YAhSNCyYIEiC",
        "outputId": "3a4276c5-df69-4809-bdc0-b2614aed0134"
      },
      "outputs": [
        {
          "name": "stdout",
          "output_type": "stream",
          "text": [
            "Epoch 1/20\n",
            "53/53 [==============================] - 128s 2s/step - loss: 1.2268 - accuracy: 0.4770 - val_loss: 0.8898 - val_accuracy: 0.6033\n",
            "Epoch 2/20\n",
            "53/53 [==============================] - 123s 2s/step - loss: 0.6663 - accuracy: 0.6919 - val_loss: 0.7109 - val_accuracy: 0.6620\n",
            "Epoch 3/20\n",
            "53/53 [==============================] - 130s 2s/step - loss: 0.6194 - accuracy: 0.7078 - val_loss: 0.4608 - val_accuracy: 0.8028\n",
            "Epoch 4/20\n",
            "53/53 [==============================] - 138s 3s/step - loss: 0.5254 - accuracy: 0.7645 - val_loss: 0.4882 - val_accuracy: 0.7840\n",
            "Epoch 5/20\n",
            "53/53 [==============================] - 150s 3s/step - loss: 0.4825 - accuracy: 0.7887 - val_loss: 0.4021 - val_accuracy: 0.8380\n",
            "Epoch 6/20\n",
            "53/53 [==============================] - 153s 3s/step - loss: 0.3850 - accuracy: 0.8241 - val_loss: 0.3553 - val_accuracy: 0.8474\n",
            "Epoch 7/20\n",
            "53/53 [==============================] - 154s 3s/step - loss: 0.3322 - accuracy: 0.8436 - val_loss: 0.4025 - val_accuracy: 0.7981\n",
            "Epoch 8/20\n",
            "53/53 [==============================] - 153s 3s/step - loss: 0.3175 - accuracy: 0.8625 - val_loss: 0.2923 - val_accuracy: 0.8498\n",
            "Epoch 9/20\n",
            "53/53 [==============================] - 154s 3s/step - loss: 0.3188 - accuracy: 0.8530 - val_loss: 0.2548 - val_accuracy: 0.9038\n",
            "Epoch 10/20\n",
            "53/53 [==============================] - 152s 3s/step - loss: 0.3323 - accuracy: 0.8660 - val_loss: 0.5299 - val_accuracy: 0.7746\n",
            "Epoch 11/20\n",
            "53/53 [==============================] - 153s 3s/step - loss: 0.3645 - accuracy: 0.8607 - val_loss: 0.2360 - val_accuracy: 0.9038\n",
            "Epoch 12/20\n",
            "53/53 [==============================] - 152s 3s/step - loss: 0.2470 - accuracy: 0.8949 - val_loss: 0.2615 - val_accuracy: 0.8779\n",
            "Epoch 13/20\n",
            "53/53 [==============================] - 161s 3s/step - loss: 0.2626 - accuracy: 0.8872 - val_loss: 0.2000 - val_accuracy: 0.9085\n",
            "Epoch 14/20\n",
            "53/53 [==============================] - 153s 3s/step - loss: 0.2171 - accuracy: 0.9020 - val_loss: 0.2062 - val_accuracy: 0.9038\n",
            "Epoch 15/20\n",
            "53/53 [==============================] - 154s 3s/step - loss: 0.1671 - accuracy: 0.9262 - val_loss: 0.2008 - val_accuracy: 0.9061\n",
            "Epoch 16/20\n",
            "53/53 [==============================] - 154s 3s/step - loss: 0.2276 - accuracy: 0.8961 - val_loss: 0.2289 - val_accuracy: 0.8873\n",
            "Epoch 17/20\n",
            "53/53 [==============================] - 154s 3s/step - loss: 0.1858 - accuracy: 0.9156 - val_loss: 0.1619 - val_accuracy: 0.9272\n",
            "Epoch 18/20\n",
            "53/53 [==============================] - 153s 3s/step - loss: 0.1669 - accuracy: 0.9215 - val_loss: 0.1650 - val_accuracy: 0.9249\n",
            "Epoch 19/20\n",
            "53/53 [==============================] - 155s 3s/step - loss: 0.1706 - accuracy: 0.9286 - val_loss: 0.2289 - val_accuracy: 0.8873\n",
            "Epoch 20/20\n",
            "53/53 [==============================] - 153s 3s/step - loss: 0.1708 - accuracy: 0.9174 - val_loss: 0.1844 - val_accuracy: 0.9155\n"
          ]
        },
        {
          "data": {
            "text/plain": [
              "<keras.src.callbacks.History at 0x1eaf4650390>"
            ]
          },
          "execution_count": 22,
          "metadata": {},
          "output_type": "execute_result"
        }
      ],
      "source": [
        "model.fit(train_generator, epochs = 20, validation_data= validation_generator)"
      ]
    },
    {
      "cell_type": "code",
      "execution_count": null,
      "metadata": {
        "id": "JkS61cKCIm4y"
      },
      "outputs": [
        {
          "name": "stderr",
          "output_type": "stream",
          "text": [
            "c:\\Users\\raman\\anaconda3\\Lib\\site-packages\\keras\\src\\engine\\training.py:3103: UserWarning: You are saving your model as an HDF5 file via `model.save()`. This file format is considered legacy. We recommend using instead the native Keras format, e.g. `model.save('my_model.keras')`.\n",
            "  saving_api.save_model(\n"
          ]
        }
      ],
      "source": [
        "model.save('facial_recognizer.h5')"
      ]
    },
    {
      "cell_type": "code",
      "execution_count": null,
      "metadata": {
        "id": "2JVg3aOUWzES"
      },
      "outputs": [],
      "source": []
    }
  ],
  "metadata": {
    "accelerator": "GPU",
    "colab": {
      "gpuType": "T4",
      "provenance": []
    },
    "kernelspec": {
      "display_name": "Python 3",
      "name": "python3"
    },
    "language_info": {
      "codemirror_mode": {
        "name": "ipython",
        "version": 3
      },
      "file_extension": ".py",
      "mimetype": "text/x-python",
      "name": "python",
      "nbconvert_exporter": "python",
      "pygments_lexer": "ipython3",
      "version": "3.10.4"
    }
  },
  "nbformat": 4,
  "nbformat_minor": 0
}
